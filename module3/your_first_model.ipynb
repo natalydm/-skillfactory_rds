{
 "cells": [
  {
   "cell_type": "markdown",
   "metadata": {},
   "source": [
    "# Загрузка Pandas и очистка данных"
   ]
  },
  {
   "cell_type": "code",
   "execution_count": 409,
   "metadata": {},
   "outputs": [],
   "source": [
    "import numpy as np\n",
    "import pandas as pd\n",
    "import seaborn as sns\n",
    "import matplotlib.pyplot as plt\n",
    "import os\n",
    "from collections import Counter\n",
    "import re"
   ]
  },
  {
   "cell_type": "code",
   "execution_count": 410,
   "metadata": {},
   "outputs": [],
   "source": [
    "df = pd.read_csv('D:\\Aston\\Pyton\\skill\\main_task.csv')"
   ]
  },
  {
   "cell_type": "code",
   "execution_count": 411,
   "metadata": {},
   "outputs": [],
   "source": [
    "#Замена пропущенных значений в поле 'Cuisine Style' \n",
    "df['Cuisine Style'].fillna('Not Cuisine Style', inplace=True)\n",
    "df['Cuisine_list']=df['Cuisine Style'].str.strip(\"'[]\").str.split(\"', '\")\n",
    "s=list(Counter(df['Cuisine Style'].str.strip(\"'[]\").str.split(\"', '\").sum()))\n",
    "#Число различных кухонь\n",
    "Count_Cuisine=len(s)-1\n",
    "#Наиболее часто встречающаяся кухня\n",
    "CuisineStyle_often=Counter(df['Cuisine Style'].str.strip(\"'[]\").str.split(\"', '\").sum()).most_common(1)"
   ]
  },
  {
   "cell_type": "code",
   "execution_count": 412,
   "metadata": {},
   "outputs": [],
   "source": [
    "#новое поле - кол-во кухонь, представленных в ресторане\n",
    "df['Cuisine_count']=df['Cuisine_list'].str.len()\n",
    "# Выделение дат из поля 'Reviews' на основе регулярных выражений \n",
    "import pandas as pd\n",
    "import re\n",
    "pattern_date = '(\\d{2}/\\d{2}/\\d{4})'\n",
    "def find_pattern(string, pattern):\n",
    "    if re.search(pattern, string):\n",
    "        return re.findall(pattern, string)\n",
    "df['date'] = df['Reviews'].apply(lambda x: find_pattern(x,pattern_date))"
   ]
  },
  {
   "cell_type": "code",
   "execution_count": 413,
   "metadata": {},
   "outputs": [],
   "source": [
    "# Новый датафрейм с датами отзывов\n",
    "df1=df['date'].astype(str).str.strip(\"'[]\").str.split(\"', '\", expand=True)\n",
    "df1[0].replace('None', 'NaN', inplace=True)\n",
    "df2=pd.DataFrame()\n",
    "df2['date1'] = pd.to_datetime(df1[0])\n",
    "df1[1].replace('None', 'NaN', inplace=True)\n",
    "df2['date2'] = pd.to_datetime(df1[1])\n"
   ]
  },
  {
   "cell_type": "code",
   "execution_count": 414,
   "metadata": {},
   "outputs": [
    {
     "data": {
      "text/plain": [
       "2017.0    22529\n",
       "2018.0     4230\n",
       "2016.0     4018\n",
       "2015.0     1520\n",
       "2014.0      646\n",
       "2013.0      301\n",
       "2012.0      164\n",
       "2011.0       50\n",
       "2008.0       30\n",
       "2010.0       21\n",
       "2009.0       15\n",
       "2007.0        4\n",
       "2004.0        1\n",
       "Name: date1, dtype: int64"
      ]
     },
     "execution_count": 414,
     "metadata": {},
     "output_type": "execute_result"
    }
   ],
   "source": [
    "# распределение по годам для даты 1\n",
    "df2['date1'].dt.year.value_counts()"
   ]
  },
  {
   "cell_type": "code",
   "execution_count": 415,
   "metadata": {},
   "outputs": [
    {
     "data": {
      "text/plain": [
       "2017.0    19398\n",
       "2016.0     4650\n",
       "2015.0     1872\n",
       "2018.0     1616\n",
       "2014.0      752\n",
       "2013.0      355\n",
       "2012.0      202\n",
       "2011.0       57\n",
       "2008.0       30\n",
       "2009.0       18\n",
       "2010.0       16\n",
       "2007.0        7\n",
       "Name: date2, dtype: int64"
      ]
     },
     "execution_count": 415,
     "metadata": {},
     "output_type": "execute_result"
    }
   ],
   "source": [
    "# распределение по годам для даты 2\n",
    "df2['date2'].dt.year.value_counts()"
   ]
  },
  {
   "cell_type": "code",
   "execution_count": 416,
   "metadata": {},
   "outputs": [],
   "source": [
    "#Присоединение дат к нашему датафрейму\n",
    "df=pd.concat([df,df2],axis=1)"
   ]
  },
  {
   "cell_type": "code",
   "execution_count": 417,
   "metadata": {},
   "outputs": [],
   "source": [
    "# Дельта во времени между отзывами\n",
    "df['date_delta']=(df['date1']-df['date2'])\n",
    "df['date_delta1'] = df['date_delta'].apply(lambda x: abs(x.total_seconds()/(3600*24)))"
   ]
  },
  {
   "cell_type": "code",
   "execution_count": 418,
   "metadata": {},
   "outputs": [
    {
     "data": {
      "image/png": "[encoded data removed]",
      "text/plain": [
       "<Figure size 432x288 with 1 Axes>"
      ]
     },
     "metadata": {
      "needs_background": "light"
     },
     "output_type": "display_data"
    }
   ],
   "source": [
    "# Дельта во времени между отзывами - box plot\n",
    "ax = sns.boxplot(y=\"date_delta1\", data=df)"
   ]
  },
  {
   "cell_type": "code",
   "execution_count": 419,
   "metadata": {},
   "outputs": [
    {
     "data": {
      "text/plain": [
       "<matplotlib.axes._subplots.AxesSubplot at 0x179631879e8>"
      ]
     },
     "execution_count": 419,
     "metadata": {},
     "output_type": "execute_result"
    },
    {
     "data": {
      "image/png": "[encoded data removed]",
      "text/plain": [
       "<Figure size 432x288 with 1 Axes>"
      ]
     },
     "metadata": {
      "needs_background": "light"
     },
     "output_type": "display_data"
    }
   ],
   "source": [
    "df['date_delta1'].hist()"
   ]
  },
  {
   "cell_type": "code",
   "execution_count": 420,
   "metadata": {},
   "outputs": [],
   "source": [
    "#новая переменная- перекодировка 'Price Range' в числа\n",
    "df['Price_Range_num'] = df['Price Range'].map({'$': 1, '$$ - $$$': 2, '$$$$': 3})"
   ]
  },
  {
   "cell_type": "code",
   "execution_count": 421,
   "metadata": {},
   "outputs": [
    {
     "data": {
      "text/plain": [
       "London        5757\n",
       "Paris         4897\n",
       "Madrid        3108\n",
       "Barcelona     2734\n",
       "Berlin        2155\n",
       "Milan         2133\n",
       "Rome          2078\n",
       "Prague        1443\n",
       "Lisbon        1300\n",
       "Vienna        1166\n",
       "Amsterdam     1086\n",
       "Brussels      1060\n",
       "Hamburg        949\n",
       "Munich         893\n",
       "Lyon           892\n",
       "Stockholm      820\n",
       "Budapest       816\n",
       "Warsaw         727\n",
       "Dublin         673\n",
       "Copenhagen     659\n",
       "Athens         628\n",
       "Edinburgh      596\n",
       "Zurich         538\n",
       "Oporto         513\n",
       "Geneva         481\n",
       "Krakow         443\n",
       "Oslo           385\n",
       "Helsinki       376\n",
       "Bratislava     301\n",
       "Luxembourg     210\n",
       "Ljubljana      183\n",
       "Name: City, dtype: int64"
      ]
     },
     "execution_count": 421,
     "metadata": {},
     "output_type": "execute_result"
    }
   ],
   "source": [
    "df['City'].value_counts()"
   ]
  },
  {
   "cell_type": "code",
   "execution_count": 422,
   "metadata": {},
   "outputs": [],
   "source": [
    "t=df.groupby(['City'])['Rating'].mean()\n",
    "#нет особых различий по городам"
   ]
  },
  {
   "cell_type": "code",
   "execution_count": 423,
   "metadata": {},
   "outputs": [
    {
     "data": {
      "text/plain": [
       "{'Amsterdam': 4.1312154696132595,\n",
       " 'Athens': 4.2300955414012735,\n",
       " 'Barcelona': 3.9612289685442574,\n",
       " 'Berlin': 4.124593967517401,\n",
       " 'Bratislava': 3.9700996677740865,\n",
       " 'Brussels': 3.9089622641509436,\n",
       " 'Budapest': 4.0900735294117645,\n",
       " 'Copenhagen': 3.9855842185128982,\n",
       " 'Dublin': 4.061664190193165,\n",
       " 'Edinburgh': 4.0880872483221475,\n",
       " 'Geneva': 3.9625779625779627,\n",
       " 'Hamburg': 4.021074815595363,\n",
       " 'Helsinki': 3.9468085106382977,\n",
       " 'Krakow': 4.146726862302483,\n",
       " 'Lisbon': 4.046153846153846,\n",
       " 'Ljubljana': 4.112021857923497,\n",
       " 'London': 3.9550981413930866,\n",
       " 'Luxembourg': 3.914285714285714,\n",
       " 'Lyon': 3.9484304932735426,\n",
       " 'Madrid': 3.800836550836551,\n",
       " 'Milan': 3.8248945147679323,\n",
       " 'Munich': 4.047032474804031,\n",
       " 'Oporto': 4.178362573099415,\n",
       " 'Oslo': 3.8935064935064934,\n",
       " 'Paris': 3.9424137226873595,\n",
       " 'Prague': 4.032571032571033,\n",
       " 'Rome': 4.230269489894129,\n",
       " 'Stockholm': 3.870121951219512,\n",
       " 'Vienna': 4.078044596912521,\n",
       " 'Warsaw': 4.089408528198074,\n",
       " 'Zurich': 4.039962825278811}"
      ]
     },
     "execution_count": 423,
     "metadata": {},
     "output_type": "execute_result"
    }
   ],
   "source": [
    "t.to_dict()\n"
   ]
  },
  {
   "cell_type": "code",
   "execution_count": 424,
   "metadata": {},
   "outputs": [],
   "source": [
    "#Перекодируем названия городов в цифры\n",
    "region_dictionary = {'Amsterdam':0,\n",
    " 'Athens': 1,\n",
    " 'Barcelona': 2,\n",
    " 'Berlin': 3,\n",
    " 'Bratislava': 4,\n",
    " 'Brussels': 5,\n",
    " 'Budapest': 6,\n",
    " 'Copenhagen': 7,\n",
    " 'Dublin': 8,\n",
    " 'Edinburgh': 9,\n",
    " 'Geneva': 10,\n",
    " 'Hamburg': 11,\n",
    " 'Helsinki': 12,\n",
    " 'Krakow': 13,\n",
    " 'Lisbon': 14,\n",
    " 'Ljubljana': 15,\n",
    " 'London': 16,\n",
    " 'Luxembourg': 17,\n",
    " 'Lyon': 18,\n",
    " 'Madrid': 19,\n",
    " 'Milan': 20,\n",
    " 'Munich': 21,\n",
    " 'Oporto': 22,\n",
    " 'Oslo': 23,\n",
    " 'Paris': 24,\n",
    " 'Prague': 25,\n",
    " 'Rome': 26,\n",
    " 'Stockholm': 27,\n",
    " 'Vienna': 28,\n",
    " 'Warsaw': 29,\n",
    " 'Zurich': 30}\n",
    "df['City_num'] = df['City'].apply(lambda x: region_dictionary[x])"
   ]
  },
  {
   "cell_type": "code",
   "execution_count": 425,
   "metadata": {},
   "outputs": [],
   "source": [
    "# Создаем новые переменные на основе наличия той или иной кухни в ресторане\n",
    "pattern_date1 = 'European'\n",
    "def find_pattern1(string, pattern):\n",
    "    if re.search(pattern, string):\n",
    "        return re.findall(pattern, string)\n",
    "df['European'] = df['Cuisine Style'].apply(lambda x: find_pattern1(x,pattern_date1))\n",
    "df['European_num']=df['European'].astype(str).str.strip(\"'[]\").map({'European': 1, 'None': 0})\n",
    "pattern_date2 = 'French'\n",
    "def find_pattern2(string, pattern):\n",
    "    if re.search(pattern, string):\n",
    "        return re.findall(pattern, string)\n",
    "df['French'] = df['Cuisine Style'].apply(lambda x: find_pattern2(x,pattern_date2))\n",
    "df['French_num']=df['French'].astype(str).str.strip(\"'[]\").map({'French': 1, 'None': 0})\n",
    "pattern_date3 = 'International'\n",
    "def find_pattern3(string, pattern):\n",
    "    if re.search(pattern, string):\n",
    "        return re.findall(pattern, string)\n",
    "df['International'] = df['Cuisine Style'].apply(lambda x: find_pattern3(x,pattern_date3))\n",
    "df['International_num']=df['International'].astype(str).str.strip(\"'[]\").map({'International': 1, 'None': 0})\n",
    "pattern_date4 = 'Japanese'\n",
    "def find_pattern4(string, pattern):\n",
    "    if re.search(pattern, string):\n",
    "        return re.findall(pattern, string)\n",
    "df['Japanese'] = df['Cuisine Style'].apply(lambda x: find_pattern4(x,pattern_date4))\n",
    "df['Japanese_num']=df['Japanese'].astype(str).str.strip(\"'[]\").map({'Japanese': 1, 'None': 0})\n",
    "pattern_date5 = 'Sushi'\n",
    "def find_pattern5(string, pattern):\n",
    "    if re.search(pattern, string):\n",
    "        return re.findall(pattern, string)\n",
    "df['Sushi'] = df['Cuisine Style'].apply(lambda x: find_pattern5(x,pattern_date5))\n",
    "df['Sushi_num']=df['Sushi'].astype(str).str.strip(\"'[]\").map({'Sushi': 1, 'None': 0})\n",
    "pattern_date6 = 'Vegetarian Friendly'\n",
    "def find_pattern6(string, pattern):\n",
    "    if re.search(pattern, string):\n",
    "        return re.findall(pattern, string)\n",
    "df['Vegetarian Friendly'] = df['Cuisine Style'].apply(lambda x: find_pattern6(x,pattern_date6))\n",
    "df['Vegetarian_Friendly_num']=df['Vegetarian Friendly'].astype(str).str.strip(\"'[]\").map({'Vegetarian Friendly': 1, 'None': 0})"
   ]
  },
  {
   "cell_type": "code",
   "execution_count": 426,
   "metadata": {},
   "outputs": [],
   "source": [
    "X = df.drop(['Restaurant_id','City','European', 'French', 'International',  'Japanese', 'Sushi','European_num','Vegetarian Friendly', 'Cuisine Style','Price Range','Reviews','Cuisine_list','date','date1', 'date2','date_delta','URL_TA','ID_TA'], axis = 1)  \n",
    "\n",
    "X.fillna(X.mean(), inplace=True)\n",
    "# Ваш код по очистке данных и генерации новых признаков\n",
    "# При необходимости добавьте ячейки"
   ]
  },
  {
   "cell_type": "markdown",
   "metadata": {},
   "source": [
    "# Разбиваем датафрейм на части, необходимые для обучения и тестирования модели"
   ]
  },
  {
   "cell_type": "code",
   "execution_count": 427,
   "metadata": {},
   "outputs": [],
   "source": [
    "# Х - данные с информацией о ресторанах, у - целевая переменная (рейтинги ресторанов)\n",
    "y = X['Rating']\n",
    "X = X.drop(['Rating'], axis = 1)\n"
   ]
  },
  {
   "cell_type": "code",
   "execution_count": 428,
   "metadata": {},
   "outputs": [
    {
     "name": "stdout",
     "output_type": "stream",
     "text": [
      "<class 'pandas.core.frame.DataFrame'>\n",
      "RangeIndex: 40000 entries, 0 to 39999\n",
      "Data columns (total 11 columns):\n",
      "Ranking                    40000 non-null float64\n",
      "Number of Reviews          40000 non-null float64\n",
      "Cuisine_count              40000 non-null int64\n",
      "date_delta1                40000 non-null float64\n",
      "Price_Range_num            40000 non-null float64\n",
      "City_num                   40000 non-null int64\n",
      "French_num                 40000 non-null int64\n",
      "International_num          40000 non-null int64\n",
      "Japanese_num               40000 non-null int64\n",
      "Sushi_num                  40000 non-null int64\n",
      "Vegetarian_Friendly_num    40000 non-null int64\n",
      "dtypes: float64(4), int64(7)\n",
      "memory usage: 3.4 MB\n"
     ]
    }
   ],
   "source": [
    "X.info()"
   ]
  },
  {
   "cell_type": "code",
   "execution_count": 429,
   "metadata": {},
   "outputs": [],
   "source": [
    "# Загружаем специальный инструмент для разбивки:\n",
    "from sklearn.model_selection import train_test_split"
   ]
  },
  {
   "cell_type": "code",
   "execution_count": 430,
   "metadata": {},
   "outputs": [],
   "source": [
    "# Наборы данных с меткой \"train\" будут использоваться для обучения модели, \"test\" - для тестирования.\n",
    "# Для тестирования мы будем использовать 25% от исходного датасета.\n",
    "X_train, X_test, y_train, y_test = train_test_split(X, y, test_size=0.25)"
   ]
  },
  {
   "cell_type": "markdown",
   "metadata": {},
   "source": [
    "# Создаём, обучаем и тестируем модель"
   ]
  },
  {
   "cell_type": "code",
   "execution_count": 431,
   "metadata": {},
   "outputs": [],
   "source": [
    "# Импортируем необходимые библиотеки:\n",
    "from sklearn.ensemble import RandomForestRegressor # инструмент для создания и обучения модели\n",
    "from sklearn import metrics # инструменты для оценки точности модели"
   ]
  },
  {
   "cell_type": "code",
   "execution_count": 432,
   "metadata": {},
   "outputs": [],
   "source": [
    "# Создаём модель\n",
    "regr = RandomForestRegressor(n_estimators=100)\n",
    "\n",
    "# Обучаем модель на тестовом наборе данных\n",
    "regr.fit(X_train, y_train)\n",
    "\n",
    "# Используем обученную модель для предсказания рейтинга ресторанов в тестовой выборке.\n",
    "# Предсказанные значения записываем в переменную y_pred\n",
    "y_pred = regr.predict(X_test)"
   ]
  },
  {
   "cell_type": "code",
   "execution_count": 433,
   "metadata": {},
   "outputs": [
    {
     "name": "stdout",
     "output_type": "stream",
     "text": [
      "MAE: 0.2252\n"
     ]
    }
   ],
   "source": [
    "# Сравниваем предсказанные значения (y_pred) с реальными (y_test), и смотрим насколько они в среднем отличаются\n",
    "# Метрика называется Mean Absolute Error (MAE) и показывает среднее отклонение предсказанных значений от фактических.\n",
    "print('MAE:', metrics.mean_absolute_error(y_test, y_pred))"
   ]
  },
  {
   "cell_type": "code",
   "execution_count": null,
   "metadata": {},
   "outputs": [],
   "source": []
  }
 ],
 "metadata": {
  "kernelspec": {
   "display_name": "Python 3",
   "language": "python",
   "name": "python3"
  },
  "language_info": {
   "codemirror_mode": {
    "name": "ipython",
    "version": 3
   },
   "file_extension": ".py",
   "mimetype": "text/x-python",
   "name": "python",
   "nbconvert_exporter": "python",
   "pygments_lexer": "ipython3",
   "version": "3.7.3"
  }
 },
 "nbformat": 4,
 "nbformat_minor": 2
}
